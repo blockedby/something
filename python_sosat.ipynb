{
 "cells": [
  {
   "cell_type": "markdown",
   "metadata": {},
   "source": [
    "## Разбор мартовского экзамена по Питону\n",
    "\n",
    "“Сегодня в маршрутке девчушка лет 18 спросила маму: “А если всем попросить `Краску`, он выключит `питон`?” С мамой плакала половина эконома… \n",
    "\n",
    "#### Авторы: Галичкин Олег и Мустафин Альмир\n",
    "\n",
    "**пысы** Если увидели ошибку, напишите в лс. На регулярочках нам стало дико лень, сорян"
   ]
  },
  {
   "cell_type": "markdown",
   "metadata": {},
   "source": [
    "![5NFMQ1EvMeE.jpg](http://images.vfl.ru/ii/1592249089/da048f22/30817110.jpg)"
   ]
  },
  {
   "cell_type": "markdown",
   "metadata": {},
   "source": [
    "#### Задание 1. Что должно находиться внутри вызова `append`?"
   ]
  },
  {
   "cell_type": "code",
   "execution_count": 56,
   "metadata": {},
   "outputs": [
    {
     "name": "stdout",
     "output_type": "stream",
     "text": [
      "['119', '120']\n"
     ]
    }
   ],
   "source": [
    "import bs4\n",
    "\n",
    "page = \"\"\"\n",
    "<div>\n",
    "    <div par='c1'>\n",
    "        111<span t='119'>117</span>\n",
    "    </div>\n",
    "    <div par='c1'>\n",
    "        112<span t='120'>118</span>\n",
    "    </div>\n",
    "</div>\n",
    "\"\"\"\n",
    "\n",
    "soup = bs4.BeautifulSoup(page, \"html.parser\")\n",
    "data = soup.findAll('div', {'par':'c1'})\n",
    "result = []\n",
    "for item in data:\n",
    "    result.append(item.find('span')[\"t\"])\n",
    "print(result)"
   ]
  },
  {
   "cell_type": "markdown",
   "metadata": {},
   "source": [
    "#### Справочка по bs4"
   ]
  },
  {
   "cell_type": "markdown",
   "metadata": {},
   "source": [
    ">import bs4\n",
    "\n",
    "Импортируем библиотеку\n",
    "\n",
    ">soup = bs4.BeautifulSoup(page, \"html.parser\")\n",
    "\n",
    "В переменную `soup` загоняем обработанный в код текст. Дальше все время обращаемся к `soup` если хотим что-то найти по всему коду. Вместо `page` - название переменной с текстом. \n",
    "\n",
    ">soup.findAll('span')\n",
    "\n",
    "Возвращает список все тегов `span` со всем содержимым\n",
    "\n",
    ">soup.find('span')\n",
    "\n",
    "Возвращает первый тег `span` со всем содержимым\n",
    "\n",
    ">soup.findAll('div', {'class': 'c1'})\n",
    "\n",
    "Возвращает список всех тегов `div` с атрибутом `class` равным `c1` с содержимым. Атрибутом может быть что угодно внутри тега `<div аттрибут1=\"значение1\" аттрибут2=\"значение2\">`\n",
    "\n",
    ">tag.contents\n",
    "\n",
    "Возвращает содержимое тега `<тэг аттрибут=\"значение\">вернет то, что тут написано</тэг>`. Использовать можно на любом теге, но не на списке тегов (например, findAll возвращает список). Применить `.contents` можно только взяв каждый отдельный элемент списка, например циклом `for`. Допустим, так: `for tag in soup.findAll('div'):`.\n",
    "\n",
    ">tag.text\n",
    "\n",
    "Возвращает текст в теге между <тэг> и </тэг>\n",
    "\n",
    ">tag.get('class')\n",
    "\n",
    "Возвращает значение определенного аттрибута. Использование аналогично предыдущему.\n",
    "\n",
    ">tag.findPrevious('span')\n",
    "\n",
    "Возвращает предыдущий тэг с его содержимым по его названию, если предыдущих нет, выдает *None*. `tag` здесь это какой-то тэг (не список!), перед которым нужно искать по всему коду. Можно указать в скобках его аттрибуты, например `tag.findPrevious('span', {'t':'118'})`и он выведет все предыдущие тэги `span` с аттрибутом `t` равным `118`\n",
    "\n",
    ">tag.findNext('b'))\n",
    "    \n",
    "Аналогично, только ищет следующий тэг"
   ]
  },
  {
   "cell_type": "markdown",
   "metadata": {},
   "source": [
    "#### Задание на проверочку знаний"
   ]
  },
  {
   "cell_type": "markdown",
   "metadata": {},
   "source": [
    "Вы парсите фотохостинг.\n",
    "Допишите код, который выведет датафрейм с колонками\n",
    "- дата\n",
    "- подпись картинки (в тэге img)\n",
    "- адрес картинки (в теге img)\n",
    "- имя залившего пользователя\n",
    "- текст поста (тот тег, где дата)"
   ]
  },
  {
   "cell_type": "code",
   "execution_count": 60,
   "metadata": {},
   "outputs": [
    {
     "data": {
      "text/html": [
       "<div>\n",
       "<style scoped>\n",
       "    .dataframe tbody tr th:only-of-type {\n",
       "        vertical-align: middle;\n",
       "    }\n",
       "\n",
       "    .dataframe tbody tr th {\n",
       "        vertical-align: top;\n",
       "    }\n",
       "\n",
       "    .dataframe thead th {\n",
       "        text-align: right;\n",
       "    }\n",
       "</style>\n",
       "<table border=\"1\" class=\"dataframe\">\n",
       "  <thead>\n",
       "    <tr style=\"text-align: right;\">\n",
       "      <th></th>\n",
       "      <th>Дата</th>\n",
       "      <th>Подпись</th>\n",
       "      <th>Адрес</th>\n",
       "      <th>Имя пользователя</th>\n",
       "      <th>Текст</th>\n",
       "    </tr>\n",
       "  </thead>\n",
       "  <tbody>\n",
       "    <tr>\n",
       "      <th>0</th>\n",
       "      <td>12.04.2020</td>\n",
       "      <td>На картинке котик</td>\n",
       "      <td>kotik.jpg</td>\n",
       "      <td>к0шатницца777</td>\n",
       "      <td>Красивый котик кушает блинчики</td>\n",
       "    </tr>\n",
       "    <tr>\n",
       "      <th>1</th>\n",
       "      <td>21.09.2018</td>\n",
       "      <td>На картинке песель</td>\n",
       "      <td>pesel.jpg</td>\n",
       "      <td>с0баковед1970</td>\n",
       "      <td>Какой щеночек!!!</td>\n",
       "    </tr>\n",
       "    <tr>\n",
       "      <th>2</th>\n",
       "      <td>11.09.2001</td>\n",
       "      <td>На картинке рыбка</td>\n",
       "      <td>rybka.jpg</td>\n",
       "      <td>водомерка233</td>\n",
       "      <td>Мой аквариум</td>\n",
       "    </tr>\n",
       "  </tbody>\n",
       "</table>\n",
       "</div>"
      ],
      "text/plain": [
       "         Дата             Подпись      Адрес Имя пользователя  \\\n",
       "0  12.04.2020   На картинке котик  kotik.jpg    к0шатницца777   \n",
       "1  21.09.2018  На картинке песель  pesel.jpg    с0баковед1970   \n",
       "2  11.09.2001   На картинке рыбка  rybka.jpg     водомерка233   \n",
       "\n",
       "                            Текст  \n",
       "0  Красивый котик кушает блинчики  \n",
       "1                Какой щеночек!!!  \n",
       "2                    Мой аквариум  "
      ]
     },
     "execution_count": 60,
     "metadata": {},
     "output_type": "execute_result"
    }
   ],
   "source": [
    "import bs4\n",
    "import pandas as pd\n",
    "\n",
    "text = \"\"\"\n",
    "<body>\n",
    "<div class=\"post\">\n",
    "<b name=\"i\"><img src=\"kotik.jpg\" align=\"center\">На картинке котик</b>\n",
    "<p class=\"text\" date=\"12.04.2020\">Красивый котик кушает блинчики</p>404\n",
    "354<p class=\"username\"><b>к0шатницца777</b>лол<b>просто так</b></p>\n",
    "</div>\n",
    "<div class=\"post\">\n",
    "<b name=\"i\"><img src=\"pesel.jpg\" align=\"right\">На картинке песель</b>\n",
    "<p class=\"text\" date=\"21.09.2018\">Какой щеночек!!!</p>4778\n",
    "23<p class=\"username\"><b>с0баковед1970</b>лол<b>просто так</b></p>\n",
    "</div>\n",
    "<div class=\"post\">453739\n",
    "<b name=\"i\"><img src=\"rybka.jpg\" align=\"left\">На картинке рыбка</b>68587\n",
    "<p class=\"text\" date=\"11.09.2001\">Мой аквариум</p>\n",
    "<p class=\"username\"><b>водомерка233</b>лол<b>просто так</b></p>\n",
    "</div>\n",
    "</body>\n",
    "\"\"\"\n",
    "\n",
    "# дописывать код сюды - пример решения в конце"
   ]
  },
  {
   "cell_type": "markdown",
   "metadata": {},
   "source": [
    "#### Задание 2. Что должно находиться внутри вызова `findall`? (2 балла)"
   ]
  },
  {
   "cell_type": "code",
   "execution_count": 3,
   "metadata": {},
   "outputs": [
    {
     "output_type": "execute_result",
     "data": {
      "text/plain": "[('item_1', '2012.03.12', 'Item Name 1'),\n ('item_2', '2012.03.6', 'Item Name 2')]"
     },
     "metadata": {},
     "execution_count": 3
    }
   ],
   "source": [
    "import re\n",
    "\n",
    "page = \"\"\"\n",
    "<div>\n",
    "    <span class=\"item_1\" dt=\"2012.03.12\">Item Name 1</span>\n",
    "    <span class=\"item_2\" dt=\"2012.03.6\" time=\"12:51\">Item Name 2</span>\n",
    "</div>\n",
    "\"\"\"\n",
    "\n",
    "re.findall('<span class=\"(.*?)\" dt=\"(.{9,10})\".*?>(.*?)</span>', page)\n",
    "# https://regex101.com/"
   ]
  },
  {
   "cell_type": "markdown",
   "metadata": {},
   "source": [
    "#### Справочка по re"
   ]
  },
  {
   "cell_type": "markdown",
   "metadata": {},
   "source": [
    "-   `.`               - Один любой символ, кроме новой строки \\n.\n",
    "-   `?`               - 0 или 1 вхождение шаблона слева\n",
    "-   `+`               - 1 и более вхождений шаблона слева\n",
    "-   `*`               - 0 и более вхождений шаблона слева\n",
    "-   `\\w`              - Любая цифра или буква (\\W — все, кроме буквы или цифры)\n",
    "-   `\\d`              - Любая цифра [0-9] (\\D — все, кроме цифры)\n",
    "-   `\\s`              - Любой пробельный символ (\\S — любой непробельный символ)\n",
    "-   `\\b`              - Граница слова\n",
    "-   `[..]`            - Один из символов в скобках ([^..] — любой символ, кроме тех, что в скобках)\n",
    "-   `\\`               - Экранирование специальных символов (\\. означает точку или \\+ — знак «плюс»)\n",
    "-   `^` и `$`         - Начало и конец строки соответственно\n",
    "-   `{n,m}`           - От n до m вхождений ({,m} — от 0 до m)\n",
    "-   `a|b`             - Соответствует a или b\n",
    "-   `()`              - Группирует выражение и возвращает найденный текст\n",
    "-   `\\t`, `\\n`, `\\r`  - Символ табуляции, новой строки и возврата каретки соответственно"
   ]
  },
  {
   "cell_type": "markdown",
   "metadata": {},
   "source": [
    "#### Задание 3. Что должно находиться внутри вызова `print`? (1,5 балла)"
   ]
  },
  {
   "cell_type": "code",
   "execution_count": 62,
   "metadata": {},
   "outputs": [
    {
     "name": "stdout",
     "output_type": "stream",
     "text": [
      "black\n",
      "255\n",
      "#000\n"
     ]
    }
   ],
   "source": [
    "import json\n",
    "\n",
    "data = json.loads(\n",
    "\"\"\"\n",
    "{\"colors\":\n",
    "    [\n",
    "        {\n",
    "            \"color\": \"black\", \n",
    "            \"category\": \"hue\", \n",
    "            \"type\": \"primary\", \n",
    "            \"code\":\n",
    "                {\n",
    "                    \"rgba\": [255, 255, 255, 1], \n",
    "                    \"hex\": \"#000\"}\n",
    "                }\n",
    "    ]\n",
    "}\"\"\")\n",
    "\n",
    "print(data[\"colors\"][0][\"color\"])\n",
    "print(data[\"colors\"][0][\"code\"][\"rgba\"][1])\n",
    "print(data[\"colors\"][0][\"code\"][\"hex\"])\n",
    "# решено"
   ]
  },
  {
   "cell_type": "markdown",
   "metadata": {},
   "source": [
    "#### Справочка по JSON"
   ]
  },
  {
   "cell_type": "markdown",
   "metadata": {},
   "source": [
    "В JSON два вида объектов - списки c *квадратными скобочками*\n",
    "\n",
    ">`[\"a\", \"б\", 1]`\n",
    "\n",
    " и словарики c *фигурными скобочками*.\n",
    "\n",
    ">`{\"a\": 1, \"б\": 22, \"в\": \"текстик\"}`\n",
    "\n",
    "\n",
    "Каждый из них может быть вложен в другой, то есть {\"списочек\":[1, 2], \"словарик\": {\"Э\": 31, \"Ю\": 32}}. Здесь в словаре лежать список и другой словарик. Поэтому чтобы добраться до любого элемента в JSON нужно входить в нужный элемент, затем заходить во вложенный и так далее по иерархии. Как это делать?\n",
    "\n",
    "Чтобы обратиться к элементу в словаре нужно написать `словарь[\"имя элемента\"]`, к элементу списка - его номер по счету в квадратных скобках считая с нуля `список[номер элемента]`\n",
    "\n",
    "Очень часто словарь обернут списком и является его единственным, нулевым элементом, в таком случае `[0]` решает проблему.\n",
    "\n",
    "В приниципе это все: главное правильно разобраться что во что вложено и потом обращаться по очереди к нужному вложенному элементу, начав с обращение к самому JSON-тексту. Так, для json-текста `j`:"
   ]
  },
  {
   "cell_type": "code",
   "execution_count": 63,
   "metadata": {},
   "outputs": [
    {
     "name": "stdout",
     "output_type": "stream",
     "text": [
      "10\n",
      "[{'sasha': 4, 'masha': 6}]\n",
      "{'sasha': 4, 'masha': 6}\n",
      "4\n",
      "kraska\n"
     ]
    }
   ],
   "source": [
    "j = json.loads(\"\"\"{\"games\": 10, \"wins\": [{\"sasha\": 4, \"masha\": 6}], \"players\": [\"sasha\", \"masha\", \"kraska\"]}\"\"\")\n",
    "\n",
    "print(j[\"games\"])\n",
    "print(j[\"wins\"]) # обрати внимание на список вокруг\n",
    "print(j[\"wins\"][0]) # а тут без него\n",
    "print(j[\"wins\"][0][\"sasha\"])\n",
    "print(j[\"players\"][2])"
   ]
  },
  {
   "cell_type": "markdown",
   "metadata": {},
   "source": [
    "#### Задание на проверочку знаний"
   ]
  },
  {
   "cell_type": "markdown",
   "metadata": {},
   "source": [
    "Вот пример JSON, который возвращает вк апи по страничке:\n",
    "Выведите:\n",
    "- ID пользователя\n",
    "- Город\n",
    "- ID страны\n",
    "- Название первой по порядку школы"
   ]
  },
  {
   "cell_type": "code",
   "execution_count": 65,
   "metadata": {},
   "outputs": [
    {
     "name": "stdout",
     "output_type": "stream",
     "text": [
      "181178506\n",
      "Санкт-Петербург\n",
      "1\n",
      "Школа №419\n"
     ]
    }
   ],
   "source": [
    "import json\n",
    "\n",
    "r = json.loads(\"\"\"{\n",
    "    \"response\": [{\n",
    "            \"id\": 181178506,\n",
    "            \"first_name\": \"Олег\",\n",
    "            \"last_name\": \"Галичкин\",\n",
    "            \"is_closed\": false,\n",
    "            \"can_access_closed\": true,\n",
    "            \"city\": {\n",
    "                \"id\": 2,\n",
    "                \"title\": \"Санкт-Петербург\"\n",
    "            },\n",
    "            \"country\": {\n",
    "                \"id\": 1,\n",
    "                \"title\": \"Россия\"\n",
    "            },\n",
    "            \"verified\": 0,\n",
    "            \"schools\": [{\n",
    "                \"id\": \"187\",\n",
    "                \"country\": 1,\n",
    "                \"city\": 2,\n",
    "                \"name\": \"Школа №419\",\n",
    "                \"year_from\": 2016,\n",
    "                \"year_to\": 2018,\n",
    "                \"class\": \"а\"\n",
    "            }, {\n",
    "                \"id\": \"87390\",\n",
    "                \"country\": 1,\n",
    "                \"city\": 242,\n",
    "                \"name\": \"Петергофская гимназия императора Александра II (бывш. Школа № 415)\",\n",
    "                \"year_from\": 2007,\n",
    "                \"year_to\": 2017,\n",
    "                \"type\": 1,\n",
    "                \"type_str\": \"Гимназия\"\n",
    "            }]\n",
    "    }]\n",
    "    }\n",
    "\"\"\")\n",
    "\n",
    "# Решено"
   ]
  },
  {
   "cell_type": "markdown",
   "metadata": {},
   "source": [
    "### 4.Дано вот это вот:"
   ]
  },
  {
   "cell_type": "code",
   "execution_count": null,
   "metadata": {},
   "outputs": [],
   "source": [
    "import json\n",
    "t='{\"src\":\"12\", \"cont\":{\"data\":[1,2,3,4,5,6,7]}}'\n",
    "data=json.loads(t)\n",
    "items = #что сюда ставить?\n",
    "result=[]\n",
    "for item in items:\n",
    "    if item/2 == int(item/2):\n",
    "        result.append(item*2)\n",
    "    elif item>5:\n",
    "        result.append(item/2)\n",
    "    else:\n",
    "        print(item+1)\n",
    "result"
   ]
  },
  {
   "cell_type": "markdown",
   "metadata": {},
   "source": [
    "#### 4.1 Каким кодом необходимо получить items? (1 балл)"
   ]
  },
  {
   "cell_type": "markdown",
   "metadata": {},
   "source": [
    "##### Ответ: data['cont']['data']\n",
    "Но почему?\n",
    "Попробуем подумать как python: что будет, если вывести `t`?"
   ]
  },
  {
   "cell_type": "code",
   "execution_count": 1,
   "metadata": {},
   "outputs": [
    {
     "data": {
      "text/plain": [
       "'{\"src\":\"12\", \"cont\":{\"data\":[1,2,3,4,5,6,7]}}'"
      ]
     },
     "execution_count": 1,
     "metadata": {},
     "output_type": "execute_result"
    }
   ],
   "source": [
    "import json\n",
    "t='{\"src\":\"12\", \"cont\":{\"data\":[1,2,3,4,5,6,7]}}'\n",
    "t"
   ]
  },
  {
   "cell_type": "markdown",
   "metadata": {},
   "source": [
    "А если применить json.loads(t) (Вообще не парьтесь, что это такое, главное запомните, что и из чего он делает. В данном случае, грубо говоря, из строки объект для анализа))?"
   ]
  },
  {
   "cell_type": "code",
   "execution_count": 6,
   "metadata": {},
   "outputs": [
    {
     "data": {
      "text/plain": [
       "{'src': '12', 'cont': {'data': [1, 2, 3, 4, 5, 6, 7]}}"
      ]
     },
     "execution_count": 6,
     "metadata": {},
     "output_type": "execute_result"
    }
   ],
   "source": [
    "import json\n",
    "t='{\"src\":\"12\", \"cont\":{\"data\":[1,2,3,4,5,6,7]}}'\n",
    "data=json.loads(t)\n",
    "data"
   ]
  },
  {
   "cell_type": "markdown",
   "metadata": {},
   "source": [
    "Далее начинаются какие-то манипуляции с items, где участвует простой цикл. Цикл можнт участвовать только в списке. Значит, нужно придумать способ каким-то образом добраться до списка [1,2,3,4,5,6,7]. Как выглядит data мы уже знаем. обратимся к ключу 'cont': "
   ]
  },
  {
   "cell_type": "code",
   "execution_count": 8,
   "metadata": {},
   "outputs": [
    {
     "data": {
      "text/plain": [
       "{'data': [1, 2, 3, 4, 5, 6, 7]}"
      ]
     },
     "execution_count": 8,
     "metadata": {},
     "output_type": "execute_result"
    }
   ],
   "source": [
    "data['cont']"
   ]
  },
  {
   "cell_type": "markdown",
   "metadata": {},
   "source": [
    "Теперь обратимся к ключу 'data':"
   ]
  },
  {
   "cell_type": "code",
   "execution_count": 9,
   "metadata": {},
   "outputs": [
    {
     "data": {
      "text/plain": [
       "[1, 2, 3, 4, 5, 6, 7]"
      ]
     },
     "execution_count": 9,
     "metadata": {},
     "output_type": "execute_result"
    }
   ],
   "source": [
    "data['cont']['data']"
   ]
  },
  {
   "cell_type": "markdown",
   "metadata": {},
   "source": [
    "Отлично. Мы достали список. Идём дальше:"
   ]
  },
  {
   "cell_type": "markdown",
   "metadata": {},
   "source": [
    "#### 4.2 Что выдаст result?"
   ]
  },
  {
   "cell_type": "code",
   "execution_count": 12,
   "metadata": {},
   "outputs": [],
   "source": [
    "items = data['cont']['data']"
   ]
  },
  {
   "cell_type": "markdown",
   "metadata": {},
   "source": [
    "Всё это дело просто проверяет числа по порядку из списка items сначала на чётность, и если оно чётное (то есть, если результат деления на два с остатком и без него совпадают), то добавим в список result это число, умноженное на два и выходим из условия. Если же результат нечётный, то переходим к слудующему шагу условия: если число больше 5, то добавим в список result это число, разделённое на два. Если же и это условие не выполняется, то не добавляя запринтуем (выведем на экран) это число, к которому перед этим мы прибавим единицу."
   ]
  },
  {
   "cell_type": "code",
   "execution_count": 13,
   "metadata": {},
   "outputs": [
    {
     "name": "stdout",
     "output_type": "stream",
     "text": [
      "2\n",
      "4\n",
      "6\n"
     ]
    },
    {
     "data": {
      "text/plain": [
       "[4, 8, 12, 3.5]"
      ]
     },
     "execution_count": 13,
     "metadata": {},
     "output_type": "execute_result"
    }
   ],
   "source": [
    "result=[]\n",
    "for item in items:\n",
    "    if item/2 == int(item/2):\n",
    "        result.append(item*2)\n",
    "    elif item>5:\n",
    "        result.append(item/2)\n",
    "    else:\n",
    "        print(item+1)\n",
    "result"
   ]
  },
  {
   "cell_type": "markdown",
   "metadata": {},
   "source": [
    "#### Задание для самостоятельной работы: "
   ]
  },
  {
   "cell_type": "code",
   "execution_count": 84,
   "metadata": {},
   "outputs": [],
   "source": [
    "import json  \n",
    "t='{\"src\":{\"12\":[1,2],\"hf\": \"gl_hf\", \"u\":[1,2,3,4,5]}, \"gl\":{\"hf\": \"gl_hf\", \"u\":[[1,2,3,4,5],{\"cont\":{\"data\":[1,2,3,4,5,6,7]}},{\"conti\":{\"dataf\":[[1, [2, 3, 88], 3, 4, [2, 4, 3, 88], [2, 4, 3, 87], 5, 6, 9]]}}]}}'\n",
    "items= # впишите, при условии, что len(items)==9 и items[-1]==9."
   ]
  },
  {
   "cell_type": "code",
   "execution_count": 90,
   "metadata": {},
   "outputs": [],
   "source": [
    "result=[]\n",
    "for i in items:\n",
    "    if type(i)!=int and len(i)>1 and i[2]==3 and str(i[-1])[-1]!='8':\n",
    "        result.append(i)\n",
    "result=result[0]\n",
    "# Что же выдаст result?               "
   ]
  },
  {
   "cell_type": "code",
   "execution_count": null,
   "metadata": {},
   "outputs": [],
   "source": [
    "# Тестируйте тут свой код"
   ]
  },
  {
   "cell_type": "markdown",
   "metadata": {},
   "source": [
    "### 5. Вставьте что-то чтобы получить что-то:"
   ]
  },
  {
   "cell_type": "code",
   "execution_count": 15,
   "metadata": {},
   "outputs": [
    {
     "output_type": "execute_result",
     "data": {
      "text/plain": "     car  year  days  price\n0   Lada  1960   5.0   700$\n1     VW  1980   7.0    NaN\n2  Volga  1970   NaN   500$\n3   Lada  1960   5.0   700$\n4  Volga  1970   NaN   500$\n5    BMW   NaN   NaN  3000$",
      "text/html": "<div>\n<style scoped>\n    .dataframe tbody tr th:only-of-type {\n        vertical-align: middle;\n    }\n\n    .dataframe tbody tr th {\n        vertical-align: top;\n    }\n\n    .dataframe thead th {\n        text-align: right;\n    }\n</style>\n<table border=\"1\" class=\"dataframe\">\n  <thead>\n    <tr style=\"text-align: right;\">\n      <th></th>\n      <th>car</th>\n      <th>year</th>\n      <th>days</th>\n      <th>price</th>\n    </tr>\n  </thead>\n  <tbody>\n    <tr>\n      <th>0</th>\n      <td>Lada</td>\n      <td>1960</td>\n      <td>5.0</td>\n      <td>700$</td>\n    </tr>\n    <tr>\n      <th>1</th>\n      <td>VW</td>\n      <td>1980</td>\n      <td>7.0</td>\n      <td>NaN</td>\n    </tr>\n    <tr>\n      <th>2</th>\n      <td>Volga</td>\n      <td>1970</td>\n      <td>NaN</td>\n      <td>500$</td>\n    </tr>\n    <tr>\n      <th>3</th>\n      <td>Lada</td>\n      <td>1960</td>\n      <td>5.0</td>\n      <td>700$</td>\n    </tr>\n    <tr>\n      <th>4</th>\n      <td>Volga</td>\n      <td>1970</td>\n      <td>NaN</td>\n      <td>500$</td>\n    </tr>\n    <tr>\n      <th>5</th>\n      <td>BMW</td>\n      <td>NaN</td>\n      <td>NaN</td>\n      <td>3000$</td>\n    </tr>\n  </tbody>\n</table>\n</div>"
     },
     "metadata": {},
     "execution_count": 15
    }
   ],
   "source": [
    "import pandas as pd\n",
    "import numpy as np\n",
    "\n",
    "df1 = pd.DataFrame({'car':['Lada', 'VW', 'Volga'], 'year': ['1960', '1980','1970'], 'days': [5,7,np.nan]})\n",
    "df2 = pd.DataFrame({'car':['BMW','Lada','Volga'],'price':['3000$', '700$', '500$']})\n",
    "\n",
    "pd.concat([pd.merge(df1, df2, how = \"left\", left_on = \"car\", right_on = \"car\"), pd.merge(df1, df2, how=\"right\", left_on = \"car\", right_on = \"car\")], ignore_index=True)"
   ]
  },
  {
   "cell_type": "markdown",
   "metadata": {},
   "source": [
    "##### Ответ: pd.DataFrame({'car': ['Lada', 'VW', 'Volga'], 'year': ['1960', '1980','1970'], 'days': [5,7,np.nan]})"
   ]
  },
  {
   "cell_type": "markdown",
   "metadata": {},
   "source": [
    "#### Справочка по джойнам"
   ]
  },
  {
   "cell_type": "markdown",
   "metadata": {},
   "source": [
    "`merge` - слияние таблиц по принципам **join в sql**\n",
    "\n",
    ">df = pd.merge(левая_таблица, правая_таблица, ...)\n",
    "\n",
    "Те самые принципы, внимание на картинки: [тут](https://shra.ru/2017/09/sql-join-v-primerakh-s-opisaniem/)\n",
    "\n",
    "При этом за способ слияния таблиц отвечает **именованный аргумент** `how`\n",
    "\n",
    ">how='inner'\n",
    "\n",
    "Только те строки из первой таблицы, соответствия которым найдены во второй таблице. Иными словами, пересечение.\n",
    "\n",
    ">how='outer'\n",
    "\n",
    "Все строки из первой таблицы, соответствия которым найдены во второй, а также все строки первой, соответствия которым не найдены, и оставшиеся строки второй. Короче, вся информация, если это возможно, - пересекающаяся.\n",
    "\n",
    ">how='left'\n",
    "\n",
    "Все строки из первой таблицы, с соответсвиями из второй или без них.\n",
    "\n",
    ">how='right'\n",
    "\n",
    "Все строки из второй таблицы, с соответсвиями из первой или без них.\n",
    "\n",
    "По умолчанию - `inner`!\n",
    "\n",
    "Аргумент `on` говорит, по каким колонкам (или индексам) проверять совпадение.\n",
    "Примеры:"
   ]
  },
  {
   "cell_type": "markdown",
   "metadata": {},
   "source": [
    "##### Задания для самостоятельного решения:"
   ]
  },
  {
   "cell_type": "code",
   "execution_count": 33,
   "metadata": {},
   "outputs": [
    {
     "output_type": "execute_result",
     "data": {
      "text/plain": "   A  C\na  5  6\nb  7  5\nc  1  4",
      "text/html": "<div>\n<style scoped>\n    .dataframe tbody tr th:only-of-type {\n        vertical-align: middle;\n    }\n\n    .dataframe tbody tr th {\n        vertical-align: top;\n    }\n\n    .dataframe thead th {\n        text-align: right;\n    }\n</style>\n<table border=\"1\" class=\"dataframe\">\n  <thead>\n    <tr style=\"text-align: right;\">\n      <th></th>\n      <th>A</th>\n      <th>C</th>\n    </tr>\n  </thead>\n  <tbody>\n    <tr>\n      <th>a</th>\n      <td>5</td>\n      <td>6</td>\n    </tr>\n    <tr>\n      <th>b</th>\n      <td>7</td>\n      <td>5</td>\n    </tr>\n    <tr>\n      <th>c</th>\n      <td>1</td>\n      <td>4</td>\n    </tr>\n  </tbody>\n</table>\n</div>"
     },
     "metadata": {},
     "execution_count": 33
    }
   ],
   "source": [
    "df_1 = pd.DataFrame([[1, 2], [3, 4], [1, 7]], columns=list('AB'), index = ['a','b','c'])\n",
    "df_2 = pd.DataFrame([[5, 6], [7, 5], [1, 4]], columns=list('AC'), index = ['a','b','c'])\n",
    "pd.merge(df_1, df_2, how='outer', on='A')\n",
    "df_1\n",
    "df_2\n"
   ]
  },
  {
   "cell_type": "code",
   "execution_count": 34,
   "metadata": {},
   "outputs": [
    {
     "output_type": "execute_result",
     "data": {
      "text/plain": "   A  B\na  1  2\nb  3  4\nc  1  7",
      "text/html": "<div>\n<style scoped>\n    .dataframe tbody tr th:only-of-type {\n        vertical-align: middle;\n    }\n\n    .dataframe tbody tr th {\n        vertical-align: top;\n    }\n\n    .dataframe thead th {\n        text-align: right;\n    }\n</style>\n<table border=\"1\" class=\"dataframe\">\n  <thead>\n    <tr style=\"text-align: right;\">\n      <th></th>\n      <th>A</th>\n      <th>B</th>\n    </tr>\n  </thead>\n  <tbody>\n    <tr>\n      <th>a</th>\n      <td>1</td>\n      <td>2</td>\n    </tr>\n    <tr>\n      <th>b</th>\n      <td>3</td>\n      <td>4</td>\n    </tr>\n    <tr>\n      <th>c</th>\n      <td>1</td>\n      <td>7</td>\n    </tr>\n  </tbody>\n</table>\n</div>"
     },
     "metadata": {},
     "execution_count": 34
    }
   ],
   "source": [
    "df_1"
   ]
  },
  {
   "cell_type": "code",
   "execution_count": 51,
   "metadata": {},
   "outputs": [
    {
     "data": {
      "text/html": [
       "<div>\n",
       "<style scoped>\n",
       "    .dataframe tbody tr th:only-of-type {\n",
       "        vertical-align: middle;\n",
       "    }\n",
       "\n",
       "    .dataframe tbody tr th {\n",
       "        vertical-align: top;\n",
       "    }\n",
       "\n",
       "    .dataframe thead th {\n",
       "        text-align: right;\n",
       "    }\n",
       "</style>\n",
       "<table border=\"1\" class=\"dataframe\">\n",
       "  <thead>\n",
       "    <tr style=\"text-align: right;\">\n",
       "      <th></th>\n",
       "      <th>A</th>\n",
       "      <th>B</th>\n",
       "      <th>C</th>\n",
       "    </tr>\n",
       "  </thead>\n",
       "  <tbody>\n",
       "    <tr>\n",
       "      <th>0</th>\n",
       "      <td>1</td>\n",
       "      <td>2.0</td>\n",
       "      <td>4.0</td>\n",
       "    </tr>\n",
       "    <tr>\n",
       "      <th>1</th>\n",
       "      <td>1</td>\n",
       "      <td>7.0</td>\n",
       "      <td>4.0</td>\n",
       "    </tr>\n",
       "    <tr>\n",
       "      <th>2</th>\n",
       "      <td>3</td>\n",
       "      <td>4.0</td>\n",
       "      <td>NaN</td>\n",
       "    </tr>\n",
       "    <tr>\n",
       "      <th>3</th>\n",
       "      <td>5</td>\n",
       "      <td>NaN</td>\n",
       "      <td>6.0</td>\n",
       "    </tr>\n",
       "    <tr>\n",
       "      <th>4</th>\n",
       "      <td>7</td>\n",
       "      <td>NaN</td>\n",
       "      <td>5.0</td>\n",
       "    </tr>\n",
       "  </tbody>\n",
       "</table>\n",
       "</div>"
      ],
      "text/plain": [
       "   A    B    C\n",
       "0  1  2.0  4.0\n",
       "1  1  7.0  4.0\n",
       "2  3  4.0  NaN\n",
       "3  5  NaN  6.0\n",
       "4  7  NaN  5.0"
      ]
     },
     "execution_count": 51,
     "metadata": {},
     "output_type": "execute_result"
    }
   ],
   "source": [
    "df_1 = pd.DataFrame([[1, 2], [3, 4], [1, 7]], columns=list('AB'), index = ['a','b','c'])\n",
    "df_2 = pd.DataFrame([[5, 6], [7, 5], [1, 4]], columns=list('AC'), index = ['a','b','c'])\n",
    "_1 = #вставить чтобы получилось это:\n",
    "_1"
   ]
  },
  {
   "cell_type": "code",
   "execution_count": 31,
   "metadata": {},
   "outputs": [
    {
     "output_type": "execute_result",
     "data": {
      "text/plain": "   A  B  C\n0  1  2  4\n1  1  7  4",
      "text/html": "<div>\n<style scoped>\n    .dataframe tbody tr th:only-of-type {\n        vertical-align: middle;\n    }\n\n    .dataframe tbody tr th {\n        vertical-align: top;\n    }\n\n    .dataframe thead th {\n        text-align: right;\n    }\n</style>\n<table border=\"1\" class=\"dataframe\">\n  <thead>\n    <tr style=\"text-align: right;\">\n      <th></th>\n      <th>A</th>\n      <th>B</th>\n      <th>C</th>\n    </tr>\n  </thead>\n  <tbody>\n    <tr>\n      <th>0</th>\n      <td>1</td>\n      <td>2</td>\n      <td>4</td>\n    </tr>\n    <tr>\n      <th>1</th>\n      <td>1</td>\n      <td>7</td>\n      <td>4</td>\n    </tr>\n  </tbody>\n</table>\n</div>"
     },
     "metadata": {},
     "execution_count": 31
    }
   ],
   "source": [
    "pd.merge(df_1, df_2, how='inner')"
   ]
  },
  {
   "cell_type": "code",
   "execution_count": 52,
   "metadata": {},
   "outputs": [
    {
     "data": {
      "text/html": [
       "<div>\n",
       "<style scoped>\n",
       "    .dataframe tbody tr th:only-of-type {\n",
       "        vertical-align: middle;\n",
       "    }\n",
       "\n",
       "    .dataframe tbody tr th {\n",
       "        vertical-align: top;\n",
       "    }\n",
       "\n",
       "    .dataframe thead th {\n",
       "        text-align: right;\n",
       "    }\n",
       "</style>\n",
       "<table border=\"1\" class=\"dataframe\">\n",
       "  <thead>\n",
       "    <tr style=\"text-align: right;\">\n",
       "      <th></th>\n",
       "      <th>A</th>\n",
       "      <th>B</th>\n",
       "      <th>C</th>\n",
       "    </tr>\n",
       "  </thead>\n",
       "  <tbody>\n",
       "    <tr>\n",
       "      <th>0</th>\n",
       "      <td>1</td>\n",
       "      <td>2</td>\n",
       "      <td>4</td>\n",
       "    </tr>\n",
       "    <tr>\n",
       "      <th>1</th>\n",
       "      <td>1</td>\n",
       "      <td>7</td>\n",
       "      <td>4</td>\n",
       "    </tr>\n",
       "  </tbody>\n",
       "</table>\n",
       "</div>"
      ],
      "text/plain": [
       "   A  B  C\n",
       "0  1  2  4\n",
       "1  1  7  4"
      ]
     },
     "execution_count": 52,
     "metadata": {},
     "output_type": "execute_result"
    }
   ],
   "source": [
    "_2 = #вставить чтобы получилось это:\n",
    "_2"
   ]
  },
  {
   "cell_type": "code",
   "execution_count": 53,
   "metadata": {},
   "outputs": [
    {
     "data": {
      "text/html": [
       "<div>\n",
       "<style scoped>\n",
       "    .dataframe tbody tr th:only-of-type {\n",
       "        vertical-align: middle;\n",
       "    }\n",
       "\n",
       "    .dataframe tbody tr th {\n",
       "        vertical-align: top;\n",
       "    }\n",
       "\n",
       "    .dataframe thead th {\n",
       "        text-align: right;\n",
       "    }\n",
       "</style>\n",
       "<table border=\"1\" class=\"dataframe\">\n",
       "  <thead>\n",
       "    <tr style=\"text-align: right;\">\n",
       "      <th></th>\n",
       "      <th>A</th>\n",
       "      <th>B</th>\n",
       "      <th>C</th>\n",
       "    </tr>\n",
       "  </thead>\n",
       "  <tbody>\n",
       "    <tr>\n",
       "      <th>0</th>\n",
       "      <td>1</td>\n",
       "      <td>2</td>\n",
       "      <td>4.0</td>\n",
       "    </tr>\n",
       "    <tr>\n",
       "      <th>1</th>\n",
       "      <td>3</td>\n",
       "      <td>4</td>\n",
       "      <td>NaN</td>\n",
       "    </tr>\n",
       "    <tr>\n",
       "      <th>2</th>\n",
       "      <td>1</td>\n",
       "      <td>7</td>\n",
       "      <td>4.0</td>\n",
       "    </tr>\n",
       "  </tbody>\n",
       "</table>\n",
       "</div>"
      ],
      "text/plain": [
       "   A  B    C\n",
       "0  1  2  4.0\n",
       "1  3  4  NaN\n",
       "2  1  7  4.0"
      ]
     },
     "execution_count": 53,
     "metadata": {},
     "output_type": "execute_result"
    }
   ],
   "source": [
    "_3 = #вставить чтобы получилось это:\n",
    "_3"
   ]
  },
  {
   "cell_type": "code",
   "execution_count": 54,
   "metadata": {},
   "outputs": [
    {
     "data": {
      "text/html": [
       "<div>\n",
       "<style scoped>\n",
       "    .dataframe tbody tr th:only-of-type {\n",
       "        vertical-align: middle;\n",
       "    }\n",
       "\n",
       "    .dataframe tbody tr th {\n",
       "        vertical-align: top;\n",
       "    }\n",
       "\n",
       "    .dataframe thead th {\n",
       "        text-align: right;\n",
       "    }\n",
       "</style>\n",
       "<table border=\"1\" class=\"dataframe\">\n",
       "  <thead>\n",
       "    <tr style=\"text-align: right;\">\n",
       "      <th></th>\n",
       "      <th>A</th>\n",
       "      <th>B</th>\n",
       "      <th>C</th>\n",
       "    </tr>\n",
       "  </thead>\n",
       "  <tbody>\n",
       "    <tr>\n",
       "      <th>0</th>\n",
       "      <td>1</td>\n",
       "      <td>2.0</td>\n",
       "      <td>4</td>\n",
       "    </tr>\n",
       "    <tr>\n",
       "      <th>1</th>\n",
       "      <td>1</td>\n",
       "      <td>7.0</td>\n",
       "      <td>4</td>\n",
       "    </tr>\n",
       "    <tr>\n",
       "      <th>2</th>\n",
       "      <td>5</td>\n",
       "      <td>NaN</td>\n",
       "      <td>6</td>\n",
       "    </tr>\n",
       "    <tr>\n",
       "      <th>3</th>\n",
       "      <td>7</td>\n",
       "      <td>NaN</td>\n",
       "      <td>5</td>\n",
       "    </tr>\n",
       "  </tbody>\n",
       "</table>\n",
       "</div>"
      ],
      "text/plain": [
       "   A    B  C\n",
       "0  1  2.0  4\n",
       "1  1  7.0  4\n",
       "2  5  NaN  6\n",
       "3  7  NaN  5"
      ]
     },
     "execution_count": 54,
     "metadata": {},
     "output_type": "execute_result"
    }
   ],
   "source": [
    "_4 = #вставить чтобы получилось это:\n",
    "_4"
   ]
  },
  {
   "cell_type": "code",
   "execution_count": null,
   "metadata": {},
   "outputs": [],
   "source": [
    "# Ячейка для кода"
   ]
  },
  {
   "cell_type": "markdown",
   "metadata": {},
   "source": [
    "## Ответы"
   ]
  },
  {
   "cell_type": "code",
   "execution_count": null,
   "metadata": {},
   "outputs": [],
   "source": [
    "# Задание 1\n",
    "\n",
    "soup = bs4.BeautifulSoup(text, \"html.parser\")\n",
    "\n",
    "date, podpis, adres, user, text = [], [], [], [], []\n",
    "\n",
    "for tag in soup.findAll(\"b\", {\"name\": \"i\"}):\n",
    "    podpis.append(tag.text)\n",
    "    \n",
    "for tag in soup.findAll(\"img\"):\n",
    "    adres.append(tag.get(\"src\"))\n",
    "\n",
    "for tag in soup.findAll(\"p\", {\"class\": \"text\"}):\n",
    "    text.append(tag.text)\n",
    "    date.append(tag.get(\"date\"))\n",
    "\n",
    "for tag in soup.findAll(\"p\", {\"class\": \"username\"}):\n",
    "    user.append(tag.findNext(\"b\").text)\n",
    "    \n",
    "result = pd.DataFrame({'Дата': date, \"Подпись\": podpis, \"Адрес\": adres, \"Имя пользователя\": user, \"Текст\": text})\n",
    "result"
   ]
  },
  {
   "cell_type": "code",
   "execution_count": null,
   "metadata": {},
   "outputs": [],
   "source": [
    "# Задание 3\n",
    "\n",
    "print(r['response'][0][\"id\"])\n",
    "print(r['response'][0][\"city\"][\"title\"])\n",
    "print(r['response'][0][\"country\"][\"id\"])\n",
    "print(r['response'][0][\"schools\"][0][\"name\"])"
   ]
  },
  {
   "cell_type": "code",
   "execution_count": null,
   "metadata": {},
   "outputs": [],
   "source": [
    "# Задание 4\n",
    "rt=json.loads(t)\n",
    "items=rt['gl']['u'][2]['conti']['dataf'][0]\n",
    "\n",
    "print(items)\n",
    "print(result)"
   ]
  },
  {
   "cell_type": "code",
   "execution_count": null,
   "metadata": {},
   "outputs": [],
   "source": [
    "# Задание 5 (по пунктам)\n",
    "pd.merge(df_1, df_2, how='outer', on='A')\n",
    "pd.merge(df_1, df_2, how='inner', on='A')\n",
    "pd.merge(df_1, df_2, how='left', on='A') # все из дф1, выборочно из дф2\n",
    "pd.merge(df_1, df_2, how='right', on='A') # все из дф2, выборочно из дф1"
   ]
  }
 ],
 "metadata": {
  "kernelspec": {
   "display_name": "Python 3",
   "language": "python",
   "name": "python3"
  },
  "language_info": {
   "codemirror_mode": {
    "name": "ipython",
    "version": 3
   },
   "file_extension": ".py",
   "mimetype": "text/x-python",
   "name": "python",
   "nbconvert_exporter": "python",
   "pygments_lexer": "ipython3",
   "version": "3.8.3-final"
  }
 },
 "nbformat": 4,
 "nbformat_minor": 4
}