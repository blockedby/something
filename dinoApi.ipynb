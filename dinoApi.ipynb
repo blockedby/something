{
 "cells": [
  {
   "cell_type": "code",
   "execution_count": 14,
   "metadata": {},
   "outputs": [],
   "source": [
    "import requests"
   ]
  },
  {
   "cell_type": "code",
   "execution_count": 15,
   "metadata": {},
   "outputs": [
    {
     "output_type": "stream",
     "name": "stdout",
     "text": "200\n"
    }
   ],
   "source": [
    "resp = requests.get(\"https://google.com\")\n",
    "print(resp.status_code)"
   ]
  },
  {
   "cell_type": "code",
   "execution_count": 16,
   "metadata": {},
   "outputs": [],
   "source": [
    "url = \"https://alexnormand-dino-ipsum.p.rapidapi.com/\"\n",
    "querystring = {\n",
    "    \"format\":\"json\",\n",
    "    \"words\":\"42\",\n",
    "    \"paragraphs\":\"3\"\n",
    "}\n",
    "headers = {\n",
    "    'x-rapidapi-host': \"alexnormand-dino-ipsum.p.rapidapi.com\",\n",
    "    'x-rapidapi-key': \"e4ca7d2374msh3680ae57075b4b2p1649f6jsn42f996c94607\"\n",
    "    }"
   ]
  },
  {
   "cell_type": "code",
   "execution_count": 17,
   "metadata": {},
   "outputs": [],
   "source": [
    "dinoResp = requests.get(url,headers=headers,params=querystring)"
   ]
  },
  {
   "cell_type": "code",
   "execution_count": 13,
   "metadata": {},
   "outputs": [
    {
     "output_type": "stream",
     "name": "stdout",
     "text": "200\n"
    },
    {
     "output_type": "execute_result",
     "data": {
      "text/plain": "'[[\"Opisthocoelicaudia\",\"Pekinosaurus\",\"Teinurosaurus\",\"Avalonianus\",\"Zalmoxes\",\"Siamodon\",\"Aepisaurus\",\"Minmi\",\"Omnivoropteryx\",\"Macelognathus\",\"Dasygnathus\",\"Talarurus\",\"Einiosaurus\",\"Metriacanthosaurus\",\"Lapparentosaurus\",\"Ceratosaurus\",\"Alwalkeria\",\"Sinusonasus\",\"Gobisaurus\",\"Ugrosaurus\",\"Ultrasauros\",\"Ingenia\",\"Proceratosaurus\",\"Shamosaurus\",\"Neovenator\",\"Succinodon\",\"Hulsanpes\",\"Jianchangosaurus\",\"Triassolestes\",\"Bugenasaura\",\"Lufengocephalus\",\"Sterrholophus\",\"Xixiposaurus\",\"Monoclonius\",\"Telmatosaurus\",\"Lusotitan\",\"Pareiasaurus\",\"Pleuropeltus\",\"Ferganasaurus\",\"Maxakalisaurus\",\"Therizinosaurus\",\"Proceratops\"],[\"Minmi\",\"Utahceratops\",\"Protecovasaurus\",\"Kaatedocus\",\"Astrodonius\",\"Supersaurus\",\"Marmarospondylus\",\"Lourinhanosaurus\",\"Barosaurus\",\"Triassolestes\",\"Proa\",\"Afrovenator\",\"Gryposaurus\",\"Hulsanpes\",\"Fulengia\",\"Martharaptor\",\"Chindesaurus\",\"Walkeria\",\"Fukuititan\",\"Hecatasaurus\",\"Pelecanimimus\",\"Dysganus\",\"Jianchangosaurus\",\"Velafrons\",\"Gryphoceratops\",\"Neosodon\",\"Drusilasaura\",\"Creosaurus\",\"Cerasinops\",\"Massospondylus\",\"Heyuannia\",\"Abelisaurus\",\"Rhadinosaurus\",\"Monkonosaurus\",\"Gresslyosaurus\",\"Talos\",\"Gojirasaurus\",\"Brachyrophus\",\"Duriatitan\",\"Orosaurus\",\"Chaoyangosaurus\",\"Graciliraptor\"],[\"Wannanosaurus\",\"Tarascosaurus\",\"Lessemsaurus\",\"Aristosuchus\",\"Zephyrosaurus\",\"Dasygnathoides\",\"Gracilisuchus\",\"Klamelisaurus\",\"Wannanosaurus\",\"Phuwiangosaurus\",\"Uberabatitan\",\"Jubbulpuria\",\"Orkoraptor\",\"Sacisaurus\",\"Nambalia\",\"Daemonosaurus\",\"Oviraptor\",\"Priodontognathus\",\"Machimosaurus\",\"Linheraptor\",\"Gondwanatitan\",\"Thecocoelurus\",\"Huabeisaurus\",\"Yaleosaurus\",\"Lessemsaurus\",\"Gobisaurus\",\"Gobisaurus\",\"Jintasaurus\",\"Jiangjunosaurus\",\"Gasosaurus\",\"Eomamenchisaurus\",\"Elopteryx\",\"Altispinax\",\"Alamosaurus\",\"Streptospondylus\",\"Naashoibitosaurus\",\"Deinocheirus\",\"Eoraptor\",\"Trialestes\",\"Craterosaurus\",\"Drinker\",\"Vitakridrinda\"]]'"
     },
     "metadata": {},
     "execution_count": 13
    }
   ],
   "source": [
    "print(dinoResp.status_code)\n",
    "dinoResp.text\n",
    "\n"
   ]
  },
  {
   "cell_type": "code",
   "execution_count": 18,
   "metadata": {},
   "outputs": [
    {
     "output_type": "execute_result",
     "data": {
      "text/plain": "[['Hortalotarsus',\n  'Edmontosaurus',\n  'Pedopenna',\n  'Loricosaurus',\n  'Isanosaurus',\n  'Echinodon',\n  'Yueosaurus',\n  'Ornithomerus',\n  'Echinodon',\n  'Jixiangornis',\n  'Psittacosaurus',\n  'Atlasaurus',\n  'Procheneosaurus',\n  'Dimodosaurus',\n  'Comahuesaurus',\n  'Herbstosaurus',\n  'Talos',\n  'Jiutaisaurus',\n  'Cerasinops',\n  'Timimus',\n  'Jobaria',\n  'Limnornis',\n  'Spondylosoma',\n  'Kundurosaurus',\n  'Stereocephalus',\n  'Triassolestes',\n  'Griphosaurus',\n  'Suzhousaurus',\n  'Gasosaurus',\n  'Telmatosaurus',\n  'Omosaurus',\n  'Majungatholus',\n  'Apatosaurus',\n  'Euhelopus',\n  'Seismosaurus',\n  'Anatotitan',\n  'Monolophosaurus',\n  'Bugenasaura',\n  'Aetonyx',\n  'Poekilopleuron',\n  'Aurornis',\n  'Avaceratops'],\n ['Blasisaurus',\n  'Raptorex',\n  'Futalognkosaurus',\n  'Hongshanosaurus',\n  'Pachysauriscus',\n  'Majungasaurus',\n  'Apatodon',\n  'Tonganosaurus',\n  'Tianchisaurus',\n  'Cionodon',\n  'Rajasaurus',\n  'Andesaurus',\n  'Zhejiangosaurus',\n  'Ichthyovenator',\n  'Avipes',\n  'Chiayusaurus',\n  'Nuthetes',\n  'Zuniceratops',\n  'Shamosaurus',\n  'Australovenator',\n  'Pachysuchus',\n  'Xixiasaurus',\n  'Kundurosaurus',\n  'Wulagasaurus',\n  'Ruyangosaurus',\n  'Longisquama',\n  'Algoasaurus',\n  'Palaeosauriscus',\n  'Gongbusaurus',\n  'Brachytrachelopan',\n  'Symphyrophus',\n  'Omnivoropteryx',\n  'Fukuiraptor',\n  'Elachistosuchus',\n  'Harpymimus',\n  'Eolosaurus',\n  'Raptorex',\n  'Malarguesaurus',\n  'Brontosaurus',\n  'Maiasaura',\n  'Yulong',\n  'Cladeiodon'],\n ['Microsaurops',\n  'Epachthosaurus',\n  'Bainoceratops',\n  'Cladeiodon',\n  'Avalonianus',\n  'Laelaps',\n  'Changchunsaurus',\n  'Arrhinoceratops',\n  'Procerosaurus',\n  'Sacisaurus',\n  'Owenodon',\n  'Nurosaurus',\n  'Liaoningosaurus',\n  'Eomamenchisaurus',\n  'Suchomimus',\n  'Agilisaurus',\n  'Gracilisuchus',\n  'Tylosteus',\n  'Theiophytalia',\n  'Nanshiungosaurus',\n  'Bambiraptor',\n  'Sterrholophus',\n  'Conchoraptor',\n  'Gideonmantellia',\n  'Kakuru',\n  'Sinornithomimus',\n  'Propanoplosaurus',\n  'Barrosasaurus',\n  'Fukuisaurus',\n  'Thespesius',\n  'Amtosaurus',\n  'Styracosaurus',\n  'Chaoyangsaurus',\n  'Lamplughsaura',\n  'Rahiolisaurus',\n  'Jinzhousaurus',\n  'Texacephale',\n  'Dandakosaurus',\n  'Archaeopteryx',\n  'Acrotholus',\n  'Podokesaurus',\n  'Koutalisaurus']]"
     },
     "metadata": {},
     "execution_count": 18
    }
   ],
   "source": [
    "dinoResp.json()"
   ]
  },
  {
   "cell_type": "code",
   "execution_count": 20,
   "metadata": {},
   "outputs": [
    {
     "output_type": "stream",
     "name": "stdout",
     "text": "Hortalotarsus Edmontosaurus Pedopenna Loricosaurus Isanosaurus Echinodon Yueosaurus Ornithomerus Echinodon Jixiangornis Psittacosaurus Atlasaurus Procheneosaurus Dimodosaurus Comahuesaurus Herbstosaurus Talos Jiutaisaurus Cerasinops Timimus Jobaria Limnornis Spondylosoma Kundurosaurus Stereocephalus Triassolestes Griphosaurus Suzhousaurus Gasosaurus Telmatosaurus Omosaurus Majungatholus Apatosaurus Euhelopus Seismosaurus Anatotitan Monolophosaurus Bugenasaura Aetonyx Poekilopleuron Aurornis Avaceratops \nBlasisaurus Raptorex Futalognkosaurus Hongshanosaurus Pachysauriscus Majungasaurus Apatodon Tonganosaurus Tianchisaurus Cionodon Rajasaurus Andesaurus Zhejiangosaurus Ichthyovenator Avipes Chiayusaurus Nuthetes Zuniceratops Shamosaurus Australovenator Pachysuchus Xixiasaurus Kundurosaurus Wulagasaurus Ruyangosaurus Longisquama Algoasaurus Palaeosauriscus Gongbusaurus Brachytrachelopan Symphyrophus Omnivoropteryx Fukuiraptor Elachistosuchus Harpymimus Eolosaurus Raptorex Malarguesaurus Brontosaurus Maiasaura Yulong Cladeiodon \nMicrosaurops Epachthosaurus Bainoceratops Cladeiodon Avalonianus Laelaps Changchunsaurus Arrhinoceratops Procerosaurus Sacisaurus Owenodon Nurosaurus Liaoningosaurus Eomamenchisaurus Suchomimus Agilisaurus Gracilisuchus Tylosteus Theiophytalia Nanshiungosaurus Bambiraptor Sterrholophus Conchoraptor Gideonmantellia Kakuru Sinornithomimus Propanoplosaurus Barrosasaurus Fukuisaurus Thespesius Amtosaurus Styracosaurus Chaoyangsaurus Lamplughsaura Rahiolisaurus Jinzhousaurus Texacephale Dandakosaurus Archaeopteryx Acrotholus Podokesaurus Koutalisaurus \n"
    }
   ],
   "source": [
    "string = str()\n",
    "for l in dinoResp.json():\n",
    "    for dino in l:\n",
    "        string+=dino+\" \"\n",
    "    print(string)\n",
    "    string = \"\""
   ]
  },
  {
   "cell_type": "code",
   "execution_count": null,
   "metadata": {},
   "outputs": [],
   "source": []
  }
 ],
 "metadata": {
  "language_info": {
   "codemirror_mode": {
    "name": "ipython",
    "version": 3
   },
   "file_extension": ".py",
   "mimetype": "text/x-python",
   "name": "python",
   "nbconvert_exporter": "python",
   "pygments_lexer": "ipython3",
   "version": "3.7.7-final"
  },
  "orig_nbformat": 2,
  "kernelspec": {
   "name": "python37764bit47305dfb8f2b45348cbed02e21d7ae7f",
   "display_name": "Python 3.7.7 64-bit"
  }
 },
 "nbformat": 4,
 "nbformat_minor": 2
}